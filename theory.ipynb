{
 "cells": [
  {
   "cell_type": "markdown",
   "metadata": {},
   "source": [
    "# ADM Homework 2\n",
    "## Theoretical Question\n",
    "\n",
    "\n",
    "### Running times\n",
    "The subroutine swapList ha a running time (RT) of order O(n) for an input (a, l, n), because there's a for loop which is executed exactly floor(n/2) times and has constant running time.\n",
    "\n",
    "splitSwap's running time is O(n logn).\n",
    "\n",
    "Proof.\n",
    "This is shown by defining its RT as a function depending on inputs l and n (a priori), let's say T(l,n). For n<=1, T(l,1)=O(1) because only two lines of constant RT are executed (condition check and return); instead, for n>1, T(l,n)=T(l,n/2)+T(l+n/2,n/2)+O(n). Notice that beginning with a fixed n, T(l,n) can be expanded through this formula, dividing n for 2 each time: this always brings to an expression in terms of the base case T('something',1), so that l is not a variable of this function T.\n",
    "\n",
    "So we have this recursive function T(n) defined by: T(1)=O(1), T(n)=2T(n/2)+O(n).\n",
    "\n",
    "T(2^k) = 2T(2^(k-1))+2O(2^(k-1))+O(2^k)=\n",
    "\n",
    "       = 2^2 T(2^(k-2))+2^2 O(2^(k-2)) + 2 O(2^(k-1)) + O(2^k) = 2^2 T(2^(k-2)) + 3 O(2^k) =...\n",
    "       \n",
    "       = 2^k T(1) + (2*k+1)O(2^k) = O(2^k) + O(k 2^k) = O(k 2^k)\n",
    "       \n",
    "from which we conclude\n",
    "\n",
    "T(n) = O(n logn).\n",
    "\n",
    "### What does splitSwap do?\n",
    "This function applied to the inputs (a, 0, len(a)) swaps the elements of a by cutting a recursively in halves. Before the recursive calls are closed, these sublists of a are swapped by swapList in this way: elements before a pivot-element with index l are exchanged with those after without changing their order, but the way this is done -after the recursive calls- changes the entire order so that, at the end, a is exactly the original one read right-to-left.\n",
    "\n",
    "### Is this algorithm optimal?\n",
    "No, it's not, because of the recursive calls. In fact, the order can be decreased to O(n) in a simple way, as shown below."
   ]
  },
  {
   "cell_type": "code",
   "execution_count": 11,
   "metadata": {},
   "outputs": [],
   "source": [
    "def swap(a,l,r):\n",
    "    # precondition: 0<= l, r < len(a)\n",
    "    if l==r or l+1==r:\n",
    "        return a[l:r+1]\n",
    "    tmp = a[0]\n",
    "    a[0] = a[r]\n",
    "    a[r] = tmp\n",
    "    swap(a, l+1, r-1)\n",
    "    return a"
   ]
  },
  {
   "cell_type": "markdown",
   "metadata": {},
   "source": [
    "This algorithm is linear in r-l and gives the expected result by choosing the input (a,0,len(a))."
   ]
  }
 ],
 "metadata": {
  "kernelspec": {
   "display_name": "Python 3",
   "language": "python",
   "name": "python3"
  },
  "language_info": {
   "codemirror_mode": {
    "name": "ipython",
    "version": 3
   },
   "file_extension": ".py",
   "mimetype": "text/x-python",
   "name": "python",
   "nbconvert_exporter": "python",
   "pygments_lexer": "ipython3",
   "version": "3.7.3"
  }
 },
 "nbformat": 4,
 "nbformat_minor": 2
}
