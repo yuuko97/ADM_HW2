{
 "cells": [
  {
   "cell_type": "markdown",
   "metadata": {},
   "source": [
    "# Research Question 1\n",
    "* Create a plot where each point (x,y) represents the number of points obtained by team x at game week y\n",
    "* Highlight the two teams that got the longest winning streak, and the two teams that got the longest losing streak."
   ]
  },
  {
   "cell_type": "code",
   "execution_count": 1,
   "metadata": {},
   "outputs": [],
   "source": [
    "import pandas as pd\n",
    "import numpy as np"
   ]
  },
  {
   "cell_type": "code",
   "execution_count": 2,
   "metadata": {},
   "outputs": [],
   "source": [
    "import matplotlib.pyplot as plt\n",
    "import sys\n",
    "import matplotlib"
   ]
  },
  {
   "cell_type": "markdown",
   "metadata": {},
   "source": [
    "### To solve the question we need information concerning only matches and teams."
   ]
  },
  {
   "cell_type": "code",
   "execution_count": 3,
   "metadata": {},
   "outputs": [
    {
     "data": {
      "text/html": [
       "<div>\n",
       "<style scoped>\n",
       "    .dataframe tbody tr th:only-of-type {\n",
       "        vertical-align: middle;\n",
       "    }\n",
       "\n",
       "    .dataframe tbody tr th {\n",
       "        vertical-align: top;\n",
       "    }\n",
       "\n",
       "    .dataframe thead th {\n",
       "        text-align: right;\n",
       "    }\n",
       "</style>\n",
       "<table border=\"1\" class=\"dataframe\">\n",
       "  <thead>\n",
       "    <tr style=\"text-align: right;\">\n",
       "      <th></th>\n",
       "      <th>competitionId</th>\n",
       "      <th>date</th>\n",
       "      <th>dateutc</th>\n",
       "      <th>duration</th>\n",
       "      <th>gameweek</th>\n",
       "      <th>label</th>\n",
       "      <th>referees</th>\n",
       "      <th>roundId</th>\n",
       "      <th>seasonId</th>\n",
       "      <th>status</th>\n",
       "      <th>teamsData</th>\n",
       "      <th>venue</th>\n",
       "      <th>winner</th>\n",
       "      <th>wyId</th>\n",
       "    </tr>\n",
       "  </thead>\n",
       "  <tbody>\n",
       "    <tr>\n",
       "      <th>0</th>\n",
       "      <td>364</td>\n",
       "      <td>May 13, 2018 at 4:00:00 PM GMT+2</td>\n",
       "      <td>2018-05-13 14:00:00</td>\n",
       "      <td>Regular</td>\n",
       "      <td>38</td>\n",
       "      <td>Burnley - AFC Bournemouth, 1 - 2</td>\n",
       "      <td>[{'refereeId': 385705, 'role': 'referee'}, {'r...</td>\n",
       "      <td>4405654</td>\n",
       "      <td>181150</td>\n",
       "      <td>Played</td>\n",
       "      <td>{'1646': {'scoreET': 0, 'coachId': 8880, 'side...</td>\n",
       "      <td>Turf Moor</td>\n",
       "      <td>1659</td>\n",
       "      <td>2500089</td>\n",
       "    </tr>\n",
       "    <tr>\n",
       "      <th>1</th>\n",
       "      <td>364</td>\n",
       "      <td>May 13, 2018 at 4:00:00 PM GMT+2</td>\n",
       "      <td>2018-05-13 14:00:00</td>\n",
       "      <td>Regular</td>\n",
       "      <td>38</td>\n",
       "      <td>Crystal Palace - West Bromwich Albion, 2 - 0</td>\n",
       "      <td>[{'refereeId': 381851, 'role': 'referee'}, {'r...</td>\n",
       "      <td>4405654</td>\n",
       "      <td>181150</td>\n",
       "      <td>Played</td>\n",
       "      <td>{'1628': {'scoreET': 0, 'coachId': 8357, 'side...</td>\n",
       "      <td>Selhurst Park</td>\n",
       "      <td>1628</td>\n",
       "      <td>2500090</td>\n",
       "    </tr>\n",
       "    <tr>\n",
       "      <th>2</th>\n",
       "      <td>364</td>\n",
       "      <td>May 13, 2018 at 4:00:00 PM GMT+2</td>\n",
       "      <td>2018-05-13 14:00:00</td>\n",
       "      <td>Regular</td>\n",
       "      <td>38</td>\n",
       "      <td>Huddersfield Town - Arsenal, 0 - 1</td>\n",
       "      <td>[{'refereeId': 384965, 'role': 'referee'}, {'r...</td>\n",
       "      <td>4405654</td>\n",
       "      <td>181150</td>\n",
       "      <td>Played</td>\n",
       "      <td>{'1609': {'scoreET': 0, 'coachId': 7845, 'side...</td>\n",
       "      <td>The John Smith's Stadium</td>\n",
       "      <td>1609</td>\n",
       "      <td>2500091</td>\n",
       "    </tr>\n",
       "    <tr>\n",
       "      <th>3</th>\n",
       "      <td>364</td>\n",
       "      <td>May 13, 2018 at 4:00:00 PM GMT+2</td>\n",
       "      <td>2018-05-13 14:00:00</td>\n",
       "      <td>Regular</td>\n",
       "      <td>38</td>\n",
       "      <td>Liverpool - Brighton &amp; Hove Albion, 4 - 0</td>\n",
       "      <td>[{'refereeId': 385704, 'role': 'referee'}, {'r...</td>\n",
       "      <td>4405654</td>\n",
       "      <td>181150</td>\n",
       "      <td>Played</td>\n",
       "      <td>{'1651': {'scoreET': 0, 'coachId': 8093, 'side...</td>\n",
       "      <td>Anfield</td>\n",
       "      <td>1612</td>\n",
       "      <td>2500092</td>\n",
       "    </tr>\n",
       "    <tr>\n",
       "      <th>4</th>\n",
       "      <td>364</td>\n",
       "      <td>May 13, 2018 at 4:00:00 PM GMT+2</td>\n",
       "      <td>2018-05-13 14:00:00</td>\n",
       "      <td>Regular</td>\n",
       "      <td>38</td>\n",
       "      <td>Manchester United - Watford, 1 - 0</td>\n",
       "      <td>[{'refereeId': 381853, 'role': 'referee'}, {'r...</td>\n",
       "      <td>4405654</td>\n",
       "      <td>181150</td>\n",
       "      <td>Played</td>\n",
       "      <td>{'1644': {'scoreET': 0, 'coachId': 93112, 'sid...</td>\n",
       "      <td>Old Trafford</td>\n",
       "      <td>1611</td>\n",
       "      <td>2500093</td>\n",
       "    </tr>\n",
       "  </tbody>\n",
       "</table>\n",
       "</div>"
      ],
      "text/plain": [
       "   competitionId                              date              dateutc  \\\n",
       "0            364  May 13, 2018 at 4:00:00 PM GMT+2  2018-05-13 14:00:00   \n",
       "1            364  May 13, 2018 at 4:00:00 PM GMT+2  2018-05-13 14:00:00   \n",
       "2            364  May 13, 2018 at 4:00:00 PM GMT+2  2018-05-13 14:00:00   \n",
       "3            364  May 13, 2018 at 4:00:00 PM GMT+2  2018-05-13 14:00:00   \n",
       "4            364  May 13, 2018 at 4:00:00 PM GMT+2  2018-05-13 14:00:00   \n",
       "\n",
       "  duration  gameweek                                         label  \\\n",
       "0  Regular        38              Burnley - AFC Bournemouth, 1 - 2   \n",
       "1  Regular        38  Crystal Palace - West Bromwich Albion, 2 - 0   \n",
       "2  Regular        38            Huddersfield Town - Arsenal, 0 - 1   \n",
       "3  Regular        38     Liverpool - Brighton & Hove Albion, 4 - 0   \n",
       "4  Regular        38            Manchester United - Watford, 1 - 0   \n",
       "\n",
       "                                            referees  roundId  seasonId  \\\n",
       "0  [{'refereeId': 385705, 'role': 'referee'}, {'r...  4405654    181150   \n",
       "1  [{'refereeId': 381851, 'role': 'referee'}, {'r...  4405654    181150   \n",
       "2  [{'refereeId': 384965, 'role': 'referee'}, {'r...  4405654    181150   \n",
       "3  [{'refereeId': 385704, 'role': 'referee'}, {'r...  4405654    181150   \n",
       "4  [{'refereeId': 381853, 'role': 'referee'}, {'r...  4405654    181150   \n",
       "\n",
       "   status                                          teamsData  \\\n",
       "0  Played  {'1646': {'scoreET': 0, 'coachId': 8880, 'side...   \n",
       "1  Played  {'1628': {'scoreET': 0, 'coachId': 8357, 'side...   \n",
       "2  Played  {'1609': {'scoreET': 0, 'coachId': 7845, 'side...   \n",
       "3  Played  {'1651': {'scoreET': 0, 'coachId': 8093, 'side...   \n",
       "4  Played  {'1644': {'scoreET': 0, 'coachId': 93112, 'sid...   \n",
       "\n",
       "                      venue  winner     wyId  \n",
       "0                 Turf Moor    1659  2500089  \n",
       "1             Selhurst Park    1628  2500090  \n",
       "2  The John Smith's Stadium    1609  2500091  \n",
       "3                   Anfield    1612  2500092  \n",
       "4              Old Trafford    1611  2500093  "
      ]
     },
     "execution_count": 3,
     "metadata": {},
     "output_type": "execute_result"
    }
   ],
   "source": [
    "matches = pd.read_json(\"..\\data\\hw2\\matches_England.json\")\n",
    "teams = pd.read_json(\"teams.json\")\n",
    "matches.head()"
   ]
  },
  {
   "cell_type": "markdown",
   "metadata": {},
   "source": [
    "### For every match, we need to extract the data concerning the two teams involved.\n",
    "This is done by converting the right column to a DataFrame, as it appears as a Dictionary"
   ]
  },
  {
   "cell_type": "code",
   "execution_count": 4,
   "metadata": {},
   "outputs": [
    {
     "data": {
      "text/html": [
       "<div>\n",
       "<style scoped>\n",
       "    .dataframe tbody tr th:only-of-type {\n",
       "        vertical-align: middle;\n",
       "    }\n",
       "\n",
       "    .dataframe tbody tr th {\n",
       "        vertical-align: top;\n",
       "    }\n",
       "\n",
       "    .dataframe thead th {\n",
       "        text-align: right;\n",
       "    }\n",
       "</style>\n",
       "<table border=\"1\" class=\"dataframe\">\n",
       "  <thead>\n",
       "    <tr style=\"text-align: right;\">\n",
       "      <th></th>\n",
       "      <th></th>\n",
       "      <th>scoreET</th>\n",
       "      <th>coachId</th>\n",
       "      <th>side</th>\n",
       "      <th>teamId</th>\n",
       "      <th>score</th>\n",
       "      <th>scoreP</th>\n",
       "      <th>hasFormation</th>\n",
       "      <th>formation</th>\n",
       "      <th>scoreHT</th>\n",
       "    </tr>\n",
       "  </thead>\n",
       "  <tbody>\n",
       "    <tr>\n",
       "      <th rowspan=\"2\" valign=\"top\">0</th>\n",
       "      <th>1646</th>\n",
       "      <td>0</td>\n",
       "      <td>8880</td>\n",
       "      <td>home</td>\n",
       "      <td>1646</td>\n",
       "      <td>1</td>\n",
       "      <td>0</td>\n",
       "      <td>1</td>\n",
       "      <td>{'bench': [{'playerId': 77502, 'ownGoals': '0'...</td>\n",
       "      <td>1</td>\n",
       "    </tr>\n",
       "    <tr>\n",
       "      <th>1659</th>\n",
       "      <td>0</td>\n",
       "      <td>8934</td>\n",
       "      <td>away</td>\n",
       "      <td>1659</td>\n",
       "      <td>2</td>\n",
       "      <td>0</td>\n",
       "      <td>1</td>\n",
       "      <td>{'bench': [{'playerId': 11061, 'ownGoals': '0'...</td>\n",
       "      <td>0</td>\n",
       "    </tr>\n",
       "    <tr>\n",
       "      <th rowspan=\"2\" valign=\"top\">1</th>\n",
       "      <th>1627</th>\n",
       "      <td>0</td>\n",
       "      <td>0</td>\n",
       "      <td>away</td>\n",
       "      <td>1627</td>\n",
       "      <td>0</td>\n",
       "      <td>0</td>\n",
       "      <td>1</td>\n",
       "      <td>{'bench': [{'playerId': 399517, 'ownGoals': '0...</td>\n",
       "      <td>0</td>\n",
       "    </tr>\n",
       "    <tr>\n",
       "      <th>1628</th>\n",
       "      <td>0</td>\n",
       "      <td>8357</td>\n",
       "      <td>home</td>\n",
       "      <td>1628</td>\n",
       "      <td>2</td>\n",
       "      <td>0</td>\n",
       "      <td>1</td>\n",
       "      <td>{'bench': [{'playerId': 8501, 'ownGoals': '0',...</td>\n",
       "      <td>0</td>\n",
       "    </tr>\n",
       "    <tr>\n",
       "      <th>2</th>\n",
       "      <th>1609</th>\n",
       "      <td>0</td>\n",
       "      <td>7845</td>\n",
       "      <td>away</td>\n",
       "      <td>1609</td>\n",
       "      <td>1</td>\n",
       "      <td>0</td>\n",
       "      <td>1</td>\n",
       "      <td>{'bench': [{'playerId': 7856, 'ownGoals': '0',...</td>\n",
       "      <td>1</td>\n",
       "    </tr>\n",
       "  </tbody>\n",
       "</table>\n",
       "</div>"
      ],
      "text/plain": [
       "        scoreET  coachId  side  teamId  score  scoreP  hasFormation  \\\n",
       "0 1646        0     8880  home    1646      1       0             1   \n",
       "  1659        0     8934  away    1659      2       0             1   \n",
       "1 1627        0        0  away    1627      0       0             1   \n",
       "  1628        0     8357  home    1628      2       0             1   \n",
       "2 1609        0     7845  away    1609      1       0             1   \n",
       "\n",
       "                                                formation  scoreHT  \n",
       "0 1646  {'bench': [{'playerId': 77502, 'ownGoals': '0'...        1  \n",
       "  1659  {'bench': [{'playerId': 11061, 'ownGoals': '0'...        0  \n",
       "1 1627  {'bench': [{'playerId': 399517, 'ownGoals': '0...        0  \n",
       "  1628  {'bench': [{'playerId': 8501, 'ownGoals': '0',...        0  \n",
       "2 1609  {'bench': [{'playerId': 7856, 'ownGoals': '0',...        1  "
      ]
     },
     "execution_count": 4,
     "metadata": {},
     "output_type": "execute_result"
    }
   ],
   "source": [
    "user_dict = matches['teamsData'].to_dict()\n",
    "data = pd.DataFrame.from_dict({(i,j): user_dict[i][j] \n",
    "                           for i in user_dict.keys() \n",
    "                           for j in user_dict[i].keys()},\n",
    "                       orient='index')\n",
    "data.head()"
   ]
  },
  {
   "cell_type": "markdown",
   "metadata": {},
   "source": [
    "We need to notice that the total goals scored by each team is given by the following formula (see the description of the dataset). This info is necessary to know the points gained in a gameweek by every team (win, loss, draw)."
   ]
  },
  {
   "cell_type": "code",
   "execution_count": 5,
   "metadata": {},
   "outputs": [
    {
     "data": {
      "text/html": [
       "<div>\n",
       "<style scoped>\n",
       "    .dataframe tbody tr th:only-of-type {\n",
       "        vertical-align: middle;\n",
       "    }\n",
       "\n",
       "    .dataframe tbody tr th {\n",
       "        vertical-align: top;\n",
       "    }\n",
       "\n",
       "    .dataframe thead th {\n",
       "        text-align: right;\n",
       "    }\n",
       "</style>\n",
       "<table border=\"1\" class=\"dataframe\">\n",
       "  <thead>\n",
       "    <tr style=\"text-align: right;\">\n",
       "      <th></th>\n",
       "      <th></th>\n",
       "      <th>scoreET</th>\n",
       "      <th>coachId</th>\n",
       "      <th>side</th>\n",
       "      <th>teamId</th>\n",
       "      <th>score</th>\n",
       "      <th>scoreP</th>\n",
       "      <th>hasFormation</th>\n",
       "      <th>formation</th>\n",
       "      <th>scoreHT</th>\n",
       "      <th>final score</th>\n",
       "    </tr>\n",
       "  </thead>\n",
       "  <tbody>\n",
       "    <tr>\n",
       "      <th rowspan=\"2\" valign=\"top\">0</th>\n",
       "      <th>1646</th>\n",
       "      <td>0</td>\n",
       "      <td>8880</td>\n",
       "      <td>home</td>\n",
       "      <td>1646</td>\n",
       "      <td>1</td>\n",
       "      <td>0</td>\n",
       "      <td>1</td>\n",
       "      <td>{'bench': [{'playerId': 77502, 'ownGoals': '0'...</td>\n",
       "      <td>1</td>\n",
       "      <td>1</td>\n",
       "    </tr>\n",
       "    <tr>\n",
       "      <th>1659</th>\n",
       "      <td>0</td>\n",
       "      <td>8934</td>\n",
       "      <td>away</td>\n",
       "      <td>1659</td>\n",
       "      <td>2</td>\n",
       "      <td>0</td>\n",
       "      <td>1</td>\n",
       "      <td>{'bench': [{'playerId': 11061, 'ownGoals': '0'...</td>\n",
       "      <td>0</td>\n",
       "      <td>2</td>\n",
       "    </tr>\n",
       "    <tr>\n",
       "      <th rowspan=\"2\" valign=\"top\">1</th>\n",
       "      <th>1627</th>\n",
       "      <td>0</td>\n",
       "      <td>0</td>\n",
       "      <td>away</td>\n",
       "      <td>1627</td>\n",
       "      <td>0</td>\n",
       "      <td>0</td>\n",
       "      <td>1</td>\n",
       "      <td>{'bench': [{'playerId': 399517, 'ownGoals': '0...</td>\n",
       "      <td>0</td>\n",
       "      <td>0</td>\n",
       "    </tr>\n",
       "    <tr>\n",
       "      <th>1628</th>\n",
       "      <td>0</td>\n",
       "      <td>8357</td>\n",
       "      <td>home</td>\n",
       "      <td>1628</td>\n",
       "      <td>2</td>\n",
       "      <td>0</td>\n",
       "      <td>1</td>\n",
       "      <td>{'bench': [{'playerId': 8501, 'ownGoals': '0',...</td>\n",
       "      <td>0</td>\n",
       "      <td>2</td>\n",
       "    </tr>\n",
       "    <tr>\n",
       "      <th>2</th>\n",
       "      <th>1609</th>\n",
       "      <td>0</td>\n",
       "      <td>7845</td>\n",
       "      <td>away</td>\n",
       "      <td>1609</td>\n",
       "      <td>1</td>\n",
       "      <td>0</td>\n",
       "      <td>1</td>\n",
       "      <td>{'bench': [{'playerId': 7856, 'ownGoals': '0',...</td>\n",
       "      <td>1</td>\n",
       "      <td>1</td>\n",
       "    </tr>\n",
       "  </tbody>\n",
       "</table>\n",
       "</div>"
      ],
      "text/plain": [
       "        scoreET  coachId  side  teamId  score  scoreP  hasFormation  \\\n",
       "0 1646        0     8880  home    1646      1       0             1   \n",
       "  1659        0     8934  away    1659      2       0             1   \n",
       "1 1627        0        0  away    1627      0       0             1   \n",
       "  1628        0     8357  home    1628      2       0             1   \n",
       "2 1609        0     7845  away    1609      1       0             1   \n",
       "\n",
       "                                                formation  scoreHT  \\\n",
       "0 1646  {'bench': [{'playerId': 77502, 'ownGoals': '0'...        1   \n",
       "  1659  {'bench': [{'playerId': 11061, 'ownGoals': '0'...        0   \n",
       "1 1627  {'bench': [{'playerId': 399517, 'ownGoals': '0...        0   \n",
       "  1628  {'bench': [{'playerId': 8501, 'ownGoals': '0',...        0   \n",
       "2 1609  {'bench': [{'playerId': 7856, 'ownGoals': '0',...        1   \n",
       "\n",
       "        final score  \n",
       "0 1646            1  \n",
       "  1659            2  \n",
       "1 1627            0  \n",
       "  1628            2  \n",
       "2 1609            1  "
      ]
     },
     "execution_count": 5,
     "metadata": {},
     "output_type": "execute_result"
    }
   ],
   "source": [
    "data['final score'] = data['score'] + data['scoreET'] + data['scoreP']\n",
    "data.head()"
   ]
  },
  {
   "cell_type": "markdown",
   "metadata": {},
   "source": [
    "Here we clean the data, keeping only the columns needed."
   ]
  },
  {
   "cell_type": "code",
   "execution_count": 6,
   "metadata": {},
   "outputs": [],
   "source": [
    "data.drop(columns=['scoreET','coachId','side','score','scoreP','hasFormation','formation','scoreHT'],\n",
    "           inplace=True)"
   ]
  },
  {
   "cell_type": "code",
   "execution_count": 7,
   "metadata": {},
   "outputs": [
    {
     "data": {
      "text/html": [
       "<div>\n",
       "<style scoped>\n",
       "    .dataframe tbody tr th:only-of-type {\n",
       "        vertical-align: middle;\n",
       "    }\n",
       "\n",
       "    .dataframe tbody tr th {\n",
       "        vertical-align: top;\n",
       "    }\n",
       "\n",
       "    .dataframe thead th {\n",
       "        text-align: right;\n",
       "    }\n",
       "</style>\n",
       "<table border=\"1\" class=\"dataframe\">\n",
       "  <thead>\n",
       "    <tr style=\"text-align: right;\">\n",
       "      <th></th>\n",
       "      <th>teamId</th>\n",
       "      <th>final score</th>\n",
       "    </tr>\n",
       "  </thead>\n",
       "  <tbody>\n",
       "    <tr>\n",
       "      <th>0</th>\n",
       "      <td>1646</td>\n",
       "      <td>1</td>\n",
       "    </tr>\n",
       "    <tr>\n",
       "      <th>1</th>\n",
       "      <td>1659</td>\n",
       "      <td>2</td>\n",
       "    </tr>\n",
       "    <tr>\n",
       "      <th>2</th>\n",
       "      <td>1627</td>\n",
       "      <td>0</td>\n",
       "    </tr>\n",
       "    <tr>\n",
       "      <th>3</th>\n",
       "      <td>1628</td>\n",
       "      <td>2</td>\n",
       "    </tr>\n",
       "    <tr>\n",
       "      <th>4</th>\n",
       "      <td>1609</td>\n",
       "      <td>1</td>\n",
       "    </tr>\n",
       "  </tbody>\n",
       "</table>\n",
       "</div>"
      ],
      "text/plain": [
       "   teamId  final score\n",
       "0    1646            1\n",
       "1    1659            2\n",
       "2    1627            0\n",
       "3    1628            2\n",
       "4    1609            1"
      ]
     },
     "execution_count": 7,
     "metadata": {},
     "output_type": "execute_result"
    }
   ],
   "source": [
    "length = len(data['teamId'])\n",
    "data.index = range(length)\n",
    "data.head()"
   ]
  },
  {
   "cell_type": "markdown",
   "metadata": {},
   "source": [
    "### Calculating the points for wins (+3), losses (0) and draws (+1) for every match and team"
   ]
  },
  {
   "cell_type": "code",
   "execution_count": 8,
   "metadata": {},
   "outputs": [],
   "source": [
    "def pts_from_scores(score1,score2):\n",
    "    if score1 > score2:\n",
    "        return [3,0]\n",
    "    if score1 < score2:\n",
    "        return [0,3]\n",
    "    return [1,1]"
   ]
  },
  {
   "cell_type": "code",
   "execution_count": 9,
   "metadata": {},
   "outputs": [],
   "source": [
    "for i in range(0, length-1, 2):\n",
    "    pts1, pts2 = pts_from_scores(data.iloc[i]['final score'], data.iloc[i+1]['final score'])\n",
    "    data.loc[i,'points'] = pts1\n",
    "    data.loc[i+1,'points'] = pts2"
   ]
  },
  {
   "cell_type": "code",
   "execution_count": 10,
   "metadata": {},
   "outputs": [],
   "source": [
    "data.drop(columns=['final score'],inplace=True)"
   ]
  },
  {
   "cell_type": "markdown",
   "metadata": {},
   "source": [
    "### Creating a Dictionary from the teams dataset\n",
    "This is useful to extract the team names using the *wyId*s as keys."
   ]
  },
  {
   "cell_type": "code",
   "execution_count": 11,
   "metadata": {},
   "outputs": [],
   "source": [
    "teams.index=teams['wyId']\n",
    "teams.drop(columns = ['area','city','name','type','wyId'],\n",
    "          inplace=True)"
   ]
  },
  {
   "cell_type": "code",
   "execution_count": 12,
   "metadata": {},
   "outputs": [
    {
     "data": {
      "text/html": [
       "<div>\n",
       "<style scoped>\n",
       "    .dataframe tbody tr th:only-of-type {\n",
       "        vertical-align: middle;\n",
       "    }\n",
       "\n",
       "    .dataframe tbody tr th {\n",
       "        vertical-align: top;\n",
       "    }\n",
       "\n",
       "    .dataframe thead th {\n",
       "        text-align: right;\n",
       "    }\n",
       "</style>\n",
       "<table border=\"1\" class=\"dataframe\">\n",
       "  <thead>\n",
       "    <tr style=\"text-align: right;\">\n",
       "      <th>wyId</th>\n",
       "      <th>1613</th>\n",
       "      <th>692</th>\n",
       "      <th>691</th>\n",
       "      <th>696</th>\n",
       "      <th>695</th>\n",
       "      <th>3795</th>\n",
       "      <th>698</th>\n",
       "      <th>2454</th>\n",
       "      <th>1673</th>\n",
       "      <th>678</th>\n",
       "      <th>...</th>\n",
       "      <th>19314</th>\n",
       "      <th>3757</th>\n",
       "      <th>15594</th>\n",
       "      <th>4418</th>\n",
       "      <th>16521</th>\n",
       "      <th>1598</th>\n",
       "      <th>17322</th>\n",
       "      <th>6697</th>\n",
       "      <th>13869</th>\n",
       "      <th>16823</th>\n",
       "    </tr>\n",
       "  </thead>\n",
       "  <tbody>\n",
       "    <tr>\n",
       "      <th>officialName</th>\n",
       "      <td>Newcastle United FC</td>\n",
       "      <td>Real Club Celta de Vigo</td>\n",
       "      <td>Reial Club Deportiu Espanyol</td>\n",
       "      <td>Deportivo Alav\\u00e9s</td>\n",
       "      <td>Levante UD</td>\n",
       "      <td>Esp\\u00e9rance Sportive Troyes Aube Champagne</td>\n",
       "      <td>Getafe Club de F\\u00fatbol</td>\n",
       "      <td>Borussia VfL M\\u00f6nchengladbach</td>\n",
       "      <td>Huddersfield Town FC</td>\n",
       "      <td>Athletic Club Bilbao</td>\n",
       "      <td>...</td>\n",
       "      <td>Senegal</td>\n",
       "      <td>Italy</td>\n",
       "      <td>Peru</td>\n",
       "      <td>France</td>\n",
       "      <td>Saudi Arabia</td>\n",
       "      <td>Spain</td>\n",
       "      <td>Serbia</td>\n",
       "      <td>Switzerland</td>\n",
       "      <td>Poland</td>\n",
       "      <td>Nigeria</td>\n",
       "    </tr>\n",
       "  </tbody>\n",
       "</table>\n",
       "<p>1 rows × 142 columns</p>\n",
       "</div>"
      ],
      "text/plain": [
       "wyId                        1613                     692    \\\n",
       "officialName  Newcastle United FC  Real Club Celta de Vigo   \n",
       "\n",
       "wyId                                 691                    696         695    \\\n",
       "officialName  Reial Club Deportiu Espanyol  Deportivo Alav\\u00e9s  Levante UD   \n",
       "\n",
       "wyId                                                  3795   \\\n",
       "officialName  Esp\\u00e9rance Sportive Troyes Aube Champagne   \n",
       "\n",
       "wyId                               698                                2454   \\\n",
       "officialName  Getafe Club de F\\u00fatbol  Borussia VfL M\\u00f6nchengladbach   \n",
       "\n",
       "wyId                         1673                  678    ...    19314  3757   \\\n",
       "officialName  Huddersfield Town FC  Athletic Club Bilbao  ...  Senegal  Italy   \n",
       "\n",
       "wyId         15594   4418          16521  1598    17322        6697    13869  \\\n",
       "officialName  Peru  France  Saudi Arabia  Spain  Serbia  Switzerland  Poland   \n",
       "\n",
       "wyId            16823  \n",
       "officialName  Nigeria  \n",
       "\n",
       "[1 rows x 142 columns]"
      ]
     },
     "execution_count": 12,
     "metadata": {},
     "output_type": "execute_result"
    }
   ],
   "source": [
    "teams = teams.T\n",
    "teams"
   ]
  },
  {
   "cell_type": "code",
   "execution_count": 13,
   "metadata": {},
   "outputs": [],
   "source": [
    "team = pd.Series.to_dict(teams.iloc[0])"
   ]
  },
  {
   "cell_type": "markdown",
   "metadata": {},
   "source": [
    "### Calculating the cumulative points relating to the weekgames"
   ]
  },
  {
   "cell_type": "code",
   "execution_count": 14,
   "metadata": {
    "scrolled": true
   },
   "outputs": [],
   "source": [
    "data['cum pts'] = data.groupby(['teamId']).cumsum()"
   ]
  },
  {
   "cell_type": "code",
   "execution_count": 15,
   "metadata": {},
   "outputs": [],
   "source": [
    "data.drop(columns=['points'], inplace=True)"
   ]
  },
  {
   "cell_type": "markdown",
   "metadata": {},
   "source": [
    "### Splitting the data based on teams"
   ]
  },
  {
   "cell_type": "code",
   "execution_count": 16,
   "metadata": {},
   "outputs": [
    {
     "data": {
      "text/html": [
       "<div>\n",
       "<style scoped>\n",
       "    .dataframe tbody tr th:only-of-type {\n",
       "        vertical-align: middle;\n",
       "    }\n",
       "\n",
       "    .dataframe tbody tr th {\n",
       "        vertical-align: top;\n",
       "    }\n",
       "\n",
       "    .dataframe thead th {\n",
       "        text-align: right;\n",
       "    }\n",
       "</style>\n",
       "<table border=\"1\" class=\"dataframe\">\n",
       "  <thead>\n",
       "    <tr style=\"text-align: right;\">\n",
       "      <th></th>\n",
       "      <th>teamId</th>\n",
       "      <th>cum pts</th>\n",
       "    </tr>\n",
       "  </thead>\n",
       "  <tbody>\n",
       "    <tr>\n",
       "      <th>4</th>\n",
       "      <td>1609</td>\n",
       "      <td>3.0</td>\n",
       "    </tr>\n",
       "    <tr>\n",
       "      <th>26</th>\n",
       "      <td>1609</td>\n",
       "      <td>3.0</td>\n",
       "    </tr>\n",
       "    <tr>\n",
       "      <th>32</th>\n",
       "      <td>1609</td>\n",
       "      <td>6.0</td>\n",
       "    </tr>\n",
       "    <tr>\n",
       "      <th>54</th>\n",
       "      <td>1609</td>\n",
       "      <td>6.0</td>\n",
       "    </tr>\n",
       "    <tr>\n",
       "      <th>76</th>\n",
       "      <td>1609</td>\n",
       "      <td>9.0</td>\n",
       "    </tr>\n",
       "  </tbody>\n",
       "</table>\n",
       "</div>"
      ],
      "text/plain": [
       "    teamId  cum pts\n",
       "4     1609      3.0\n",
       "26    1609      3.0\n",
       "32    1609      6.0\n",
       "54    1609      6.0\n",
       "76    1609      9.0"
      ]
     },
     "execution_count": 16,
     "metadata": {},
     "output_type": "execute_result"
    }
   ],
   "source": [
    "dfs = [x for _, x in data.groupby('teamId')]\n",
    "tot_weeks = len(dfs[0])\n",
    "dfs[0].head()"
   ]
  },
  {
   "cell_type": "code",
   "execution_count": 17,
   "metadata": {},
   "outputs": [],
   "source": [
    "num_teams = len(dfs)"
   ]
  },
  {
   "cell_type": "markdown",
   "metadata": {},
   "source": [
    "In the following lines we adjust the labels for indexes and columns."
   ]
  },
  {
   "cell_type": "code",
   "execution_count": 18,
   "metadata": {},
   "outputs": [],
   "source": [
    "def num_week(x):\n",
    "    return 'week ' + str(x)"
   ]
  },
  {
   "cell_type": "code",
   "execution_count": 19,
   "metadata": {},
   "outputs": [],
   "source": [
    "for i in range(num_teams):\n",
    "    dfs[i].index=list(map(num_week, list(range(1,tot_weeks+1))))\n",
    "    teamname = team[dfs[i].loc['week 1','teamId']]\n",
    "    dfs[i].drop(columns=['teamId'], inplace=True)\n",
    "    dfs[i].columns=[teamname]"
   ]
  },
  {
   "cell_type": "markdown",
   "metadata": {},
   "source": [
    "We now create the DataFrame that we need to plot, with team names as columns and game weeks as rows."
   ]
  },
  {
   "cell_type": "code",
   "execution_count": 20,
   "metadata": {},
   "outputs": [],
   "source": [
    "result = pd.concat(dfs, axis=1, sort=False)"
   ]
  },
  {
   "cell_type": "code",
   "execution_count": 21,
   "metadata": {},
   "outputs": [
    {
     "data": {
      "text/plain": [
       "<matplotlib.axes._subplots.AxesSubplot at 0x264aa2e71d0>"
      ]
     },
     "execution_count": 21,
     "metadata": {},
     "output_type": "execute_result"
    },
    {
     "data": {
      "text/plain": [
       "<Figure size 1440x720 with 0 Axes>"
      ]
     },
     "metadata": {},
     "output_type": "display_data"
    },
    {
     "data": {
      "image/png": "[encoded data removed]",
      "text/plain": [
       "<Figure size 432x288 with 1 Axes>"
      ]
     },
     "metadata": {
      "needs_background": "light"
     },
     "output_type": "display_data"
    }
   ],
   "source": [
    "plt.figure(figsize=[20,10])\n",
    "result.plot()"
   ]
  }
 ],
 "metadata": {
  "kernelspec": {
   "display_name": "Python 3",
   "language": "python",
   "name": "python3"
  },
  "language_info": {
   "codemirror_mode": {
    "name": "ipython",
    "version": 3
   },
   "file_extension": ".py",
   "mimetype": "text/x-python",
   "name": "python",
   "nbconvert_exporter": "python",
   "pygments_lexer": "ipython3",
   "version": "3.7.3"
  }
 },
 "nbformat": 4,
 "nbformat_minor": 2
}
